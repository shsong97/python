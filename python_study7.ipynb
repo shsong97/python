{
  "nbformat": 4,
  "nbformat_minor": 0,
  "metadata": {
    "colab": {
      "name": "python_study7.ipynb",
      "provenance": [],
      "authorship_tag": "ABX9TyOLRWA4ca2BufXOTruCXNxV",
      "include_colab_link": true
    },
    "kernelspec": {
      "name": "python3",
      "display_name": "Python 3"
    }
  },
  "cells": [
    {
      "cell_type": "markdown",
      "metadata": {
        "id": "view-in-github",
        "colab_type": "text"
      },
      "source": [
        "<a href=\"https://colab.research.google.com/github/shsong97/python/blob/master/python_study7.ipynb\" target=\"_parent\"><img src=\"https://colab.research.google.com/assets/colab-badge.svg\" alt=\"Open In Colab\"/></a>"
      ]
    },
    {
      "cell_type": "markdown",
      "metadata": {
        "id": "iMEB9ID8qHaB"
      },
      "source": [
        "퀵 정렬(Quick sort)\n",
        "---\n",
        "\n",
        "퀵정렬은 그룹을 둘로 나눠 재귀호출하는 방식은 병합정렬과 같지만, 그룹을 나눌때 미리 기준과 비교해서 나눈다는 점이 다릅니다. 즉, 먼저 기준과 비교해서 그룹을 나눈 다음 각각 재귀 호출하여 합치는 방식입니다.\n",
        "\n",
        "1. 학생들이 알아서 줄을 서는 방식을 고민합니다.\n",
        "2. 열 명중에 기준이 될 사람을 한 명 뽑습니다. 기준보다 키가 작으면 앞에 큰 항상은 뒤에 서게 합니다.\n",
        "3. 기준인 학생은 가만히 있고, 작은 학생들끼리, 큰 학생들 끼리 다시 키 순서대로 줄을 서면 줄서기가 끝이납니다."
      ]
    },
    {
      "cell_type": "code",
      "metadata": {
        "colab": {
          "base_uri": "https://localhost:8080/"
        },
        "id": "sgNZxzMZqDZe",
        "outputId": "b85d5662-93e2-48f8-ec53-d2da2101f4d2"
      },
      "source": [
        "#쉽게 설명한 퀵 정렬 알고리즘\n",
        "def quick_sort(a):\n",
        "  n=len(a)\n",
        "  if n<=1:\n",
        "    return a\n",
        "\n",
        "  pivot=a[-1] #편의상 마지막 값을 기준값으로 정함\n",
        "  g1=[]\n",
        "  g2=[]\n",
        "  for i in range(0,n-1):\n",
        "    if a[i]<pivot:\n",
        "      g1.append(a[i])\n",
        "    else:\n",
        "      g2.append(a[i])\n",
        "\n",
        "  return quick_sort(g1) + [pivot] + quick_sort(g2)\n",
        "\n",
        "d=[6,8,3,9,10,1,2,4,7,5]\n",
        "print(quick_sort(d))"
      ],
      "execution_count": 1,
      "outputs": [
        {
          "output_type": "stream",
          "text": [
            "[1, 2, 3, 4, 5, 6, 7, 8, 9, 10]\n"
          ],
          "name": "stdout"
        }
      ]
    },
    {
      "cell_type": "code",
      "metadata": {
        "colab": {
          "base_uri": "https://localhost:8080/"
        },
        "id": "qPFgtoM1r8b1",
        "outputId": "78f5800b-e841-4123-fcfc-aedb68fd0be4"
      },
      "source": [
        "#일반적은 퀵 정렬 알고리즘\n",
        "#입력 리스트 안에서 직접 위치를 바꾸면서 정렬\n",
        "\n",
        "def quick_sort_sub(a,start,end):\n",
        "  if end-start<=0:\n",
        "    return\n",
        "  pivot=a[end]\n",
        "  i=start\n",
        "  for j in range(start,end):\n",
        "    if a[j]<=pivot:\n",
        "      a[i],a[j]=a[j],a[i]\n",
        "      i+=1\n",
        "\n",
        "  a[i], a[end] = a[end], a[i]\n",
        "  quick_sort_sub(a,start,i-1)\n",
        "  quick_sort_sub(a,i+1,end)\n",
        "\n",
        "def quick_sort(a):\n",
        "  quick_sort_sub(a,0,len(a)-1)\n",
        "\n",
        "d=[6,8,3,9,10,1,2,4,7,5]\n",
        "quick_sort(d)\n",
        "print(d)\n"
      ],
      "execution_count": 2,
      "outputs": [
        {
          "output_type": "stream",
          "text": [
            "[1, 2, 3, 4, 5, 6, 7, 8, 9, 10]\n"
          ],
          "name": "stdout"
        }
      ]
    },
    {
      "cell_type": "markdown",
      "metadata": {
        "id": "yLAGFQ9Ts60s"
      },
      "source": [
        "기준값의 중요성\n",
        "---\n",
        "줄세우기에서 선생님이 기준으로 정한 학생이 하필이면 열 명 중 키가 가장 작은 학생이었다면 어떻게 될까요? 작은 그룹에는 한명도 없고 큰 그룹에는 나머지 학생이 모두 모인 상황이 됩니다. 그러면 둘로 나눈 의미가 없어져 퀵 정렬의 효율이 낮아집니다.\n",
        "\n",
        "알고리즘 분석\n",
        "---\n",
        "퀵 정렬의 복잡도는 최악의 경우 선택 정렬이나 삽입 정렬과 같은 O(n^2)이지만 평균적일 때는 병합 정렬과 같은 O(n * logn) 입니다."
      ]
    }
  ]
}