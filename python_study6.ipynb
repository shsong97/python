{
  "nbformat": 4,
  "nbformat_minor": 0,
  "metadata": {
    "colab": {
      "name": "python_study6.ipynb",
      "provenance": [],
      "authorship_tag": "ABX9TyPNWAs1KyYSokgbDd7zlWbZ",
      "include_colab_link": true
    },
    "kernelspec": {
      "name": "python3",
      "display_name": "Python 3"
    }
  },
  "cells": [
    {
      "cell_type": "markdown",
      "metadata": {
        "id": "view-in-github",
        "colab_type": "text"
      },
      "source": [
        "<a href=\"https://colab.research.google.com/github/shsong97/python/blob/master/python_study6.ipynb\" target=\"_parent\"><img src=\"https://colab.research.google.com/assets/colab-badge.svg\" alt=\"Open In Colab\"/></a>"
      ]
    },
    {
      "cell_type": "code",
      "metadata": {
        "id": "w1W6oTyhlz-j"
      },
      "source": [
        ""
      ],
      "execution_count": null,
      "outputs": []
    },
    {
      "cell_type": "markdown",
      "metadata": {
        "id": "_eTNApDql-Mp"
      },
      "source": [
        "병합정렬\n",
        "---\n",
        "\n",
        "1. 학생들에게 일일이 지시하기 귀찮아진 선생님은 학생들이 알아서 줄을 설 수 있는 방법을 고민합니다. 다섯명씩 두조로 나누어 그 안에서 키 순서로 줄을 서라고 시킵니다.\n",
        "2. 이제 선생님 앞에는 키 순서대로 정렬된 두 줄이 있습니다.\n",
        "3. 선생님은 각 줄의 맨 앞에 있는 두 학생 중에 키가 더 작은 학생을 뽑아 최종 결과 줄에 세웁니다.\n",
        "그리고 다시 각 줄의 맨 앞에 있는 두 학생을 비교해 작은 학생을 그 뒤에 세웁니다.\n",
        "4. 이 과정을 반복하다가 중간 결과 줄 하나가 사라지면 나머지 중간 결과 줄에 있는 사람 전부를 최종 결과 줄에 세웁니다."
      ]
    },
    {
      "cell_type": "code",
      "metadata": {
        "colab": {
          "base_uri": "https://localhost:8080/"
        },
        "id": "016vp0oem5iU",
        "outputId": "b1460842-318c-4e8f-89e4-724c9d5389fa"
      },
      "source": [
        "#쉽게 설명한 병합 정렬 알고리즘\n",
        "def merge_sort(a):\n",
        "  n=len(a)\n",
        "  if n<=1:\n",
        "    return a\n",
        "  \n",
        "  mid=n//2\n",
        "  g1=merge_sort(a[:mid])\n",
        "  g2=merge_sort(a[mid:])\n",
        "\n",
        "  result=[]\n",
        "  while g1 and g2:\n",
        "    if g1[0] < g2[0]:\n",
        "      result.append(g1.pop(0))\n",
        "    else:\n",
        "      result.append(g2.pop(0))\n",
        "\n",
        "  while g1:\n",
        "    result.append(g1.pop(0))\n",
        "  while g2:\n",
        "    result.append(g2.pop(0))\n",
        "  return result\n",
        "\n",
        "d=[6,8,3,9,10,1,2,4,7,5]\n",
        "print(merge_sort(d))"
      ],
      "execution_count": 1,
      "outputs": [
        {
          "output_type": "stream",
          "text": [
            "[1, 2, 3, 4, 5, 6, 7, 8, 9, 10]\n"
          ],
          "name": "stdout"
        }
      ]
    },
    {
      "cell_type": "code",
      "metadata": {
        "colab": {
          "base_uri": "https://localhost:8080/"
        },
        "id": "Pj5iFEu5n3_q",
        "outputId": "289cebcc-7219-486d-b617-9ad523c4aa39"
      },
      "source": [
        "#일반적인 병합 정렬 알고리즘\n",
        "def merge_sort(a):\n",
        "  n=len(a)\n",
        "  if n<=1:\n",
        "    return\n",
        "  \n",
        "  mid=n//2\n",
        "  g1=a[:mid]\n",
        "  g2=a[mid:]\n",
        "  merge_sort(g1)\n",
        "  merge_sort(g2)\n",
        "\n",
        "  i1=0\n",
        "  i2=0\n",
        "  ia=0\n",
        "  while i1<len(g1) and i2<len(g2):\n",
        "    if g1[i1]<g2[i2]:\n",
        "      a[ia]=g1[i1]\n",
        "      i1+=1\n",
        "      ia+=1\n",
        "    else:\n",
        "      a[ia]=g2[i2]\n",
        "      i2+=1\n",
        "      ia+=1\n",
        "  \n",
        "  while i1<len(g1):\n",
        "    a[ia]=g1[i1]\n",
        "    i1+=1\n",
        "    ia+=1\n",
        "  while i2<len(g2):\n",
        "    a[ia]=g2[i2]\n",
        "    i2+=1\n",
        "    ia+=1\n",
        "\n",
        "d=[6,8,3,9,10,1,2,4,7,5]\n",
        "merge_sort(d)\n",
        "print(d)"
      ],
      "execution_count": 2,
      "outputs": [
        {
          "output_type": "stream",
          "text": [
            "[1, 2, 3, 4, 5, 6, 7, 8, 9, 10]\n"
          ],
          "name": "stdout"
        }
      ]
    },
    {
      "cell_type": "markdown",
      "metadata": {
        "id": "T_BX7Ef_o4k0"
      },
      "source": [
        "알고리즘 분석\n",
        "---\n",
        "\n",
        "병합정렬은 주어진 문제를 절반으로 나눈 다음 각각의 재귀호출로 풀어가는 방식입니다. 이처럼 큰 문제를 작은 문제로 나눠 푸는 설계 기법을 분할정복(divide and conquer)라고 합니다.\n",
        "\n",
        "분할 정복을 이용한 병합 정렬의 계산 복잡도는 O(n*logn)으로 선택 정렬이나 삽입 정렬의 복잡도 O(n^2)보다는 낮습니다."
      ]
    }
  ]
}