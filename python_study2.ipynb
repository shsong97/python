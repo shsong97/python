{
  "nbformat": 4,
  "nbformat_minor": 0,
  "metadata": {
    "colab": {
      "name": "python_study2.ipynb",
      "provenance": [],
      "collapsed_sections": [],
      "authorship_tag": "ABX9TyNY1OKH24RbfbL7dkKrrIwF",
      "include_colab_link": true
    },
    "kernelspec": {
      "name": "python3",
      "display_name": "Python 3"
    }
  },
  "cells": [
    {
      "cell_type": "markdown",
      "metadata": {
        "id": "view-in-github",
        "colab_type": "text"
      },
      "source": [
        "<a href=\"https://colab.research.google.com/github/shsong97/python/blob/master/python_study2.ipynb\" target=\"_parent\"><img src=\"https://colab.research.google.com/assets/colab-badge.svg\" alt=\"Open In Colab\"/></a>"
      ]
    },
    {
      "cell_type": "markdown",
      "metadata": {
        "id": "KsJQa8uNFl7L"
      },
      "source": [
        "동명이인을 찾는 알고리즘 : 리스트에 있는 모드 자료를 검색하는 방법\n",
        "---\n",
        "set 함수는 유일한값(중복없음)을 저장하는 자료형이다.\n",
        "Big O 표기법으로 O(n^2)"
      ]
    },
    {
      "cell_type": "code",
      "metadata": {
        "colab": {
          "base_uri": "https://localhost:8080/"
        },
        "id": "I97ZalDtFhHb",
        "outputId": "f6741294-8232-445b-9bd8-2fa80c209467"
      },
      "source": [
        "def find_same_name(a):\n",
        "  n=len(a)\n",
        "  result=set()\n",
        "  for i in range(0,n-1):\n",
        "    for j in range(i+1,n):\n",
        "      if a[i]==a[j]:\n",
        "        result.add(a[i])\n",
        "  return result\n",
        "\n",
        "name=[\"Tom\",\"Jerry\",\"Mike\",\"Tom\"]\n",
        "print(find_same_name(name))\n",
        "\n",
        "name2=[\"Tom\",\"Jerry\",\"Mike\",\"Tom\",\"Mike\"]\n",
        "print(find_same_name(name2))"
      ],
      "execution_count": 1,
      "outputs": [
        {
          "output_type": "stream",
          "text": [
            "{'Tom'}\n",
            "{'Mike', 'Tom'}\n"
          ],
          "name": "stdout"
        }
      ]
    },
    {
      "cell_type": "markdown",
      "metadata": {
        "id": "EpJNvbNDG9Ta"
      },
      "source": [
        "재귀호출\n",
        "---\n",
        "팩토리얼 구하기(일반적인 루프로 구하는 방식)\n"
      ]
    },
    {
      "cell_type": "code",
      "metadata": {
        "colab": {
          "base_uri": "https://localhost:8080/"
        },
        "id": "76flZ1kkHGEU",
        "outputId": "4417e75c-8876-481b-f694-da92ebac5a69"
      },
      "source": [
        "def fact(n):\n",
        "  f=1\n",
        "  for i in range(1,n+1):\n",
        "    f=f*i\n",
        "  return f\n",
        "\n",
        "print(fact(1))\n",
        "print(fact(5))\n",
        "print(fact(10))\n"
      ],
      "execution_count": 2,
      "outputs": [
        {
          "output_type": "stream",
          "text": [
            "1\n",
            "120\n",
            "3628800\n"
          ],
          "name": "stdout"
        }
      ]
    },
    {
      "cell_type": "markdown",
      "metadata": {
        "id": "4-YyQeSkHY_k"
      },
      "source": [
        "재귀호출 : 다시 돌아가 부르기\n",
        "재귀호출은 종료조건이 중요하다. 그렇지 않으면 무한 반복되다가 RecursionError가 발생한다.\n",
        "동일한 사건의 반복일 경우 마지막 문제는 이전의 문제의 결과값으로 구할 수 있다는 가정이 들어있다."
      ]
    },
    {
      "cell_type": "code",
      "metadata": {
        "colab": {
          "base_uri": "https://localhost:8080/"
        },
        "id": "PcjQOk7XHfQa",
        "outputId": "4f42592f-acc4-4e5e-eaf0-c2bcbc5033e0"
      },
      "source": [
        "def fact(n):\n",
        "  if n<=1:\n",
        "    return 1\n",
        "  return n*fact(n-1)\n",
        "\n",
        "print(fact(1))\n",
        "print(fact(5))\n",
        "print(fact(10)) "
      ],
      "execution_count": 3,
      "outputs": [
        {
          "output_type": "stream",
          "text": [
            "1\n",
            "120\n",
            "3628800\n"
          ],
          "name": "stdout"
        }
      ]
    },
    {
      "cell_type": "markdown",
      "metadata": {
        "id": "3soMPntHIJbK"
      },
      "source": [
        "n! = n * (n-1)! 이다.\n",
        "\n",
        "*   3! = 2 * 1!\n",
        "*   4! = 4 * 3! = 4 * 3 * 2! = 4 * 3 * 2 * 1\n",
        "\n",
        "factorial 의 계산 복잡도는 O(n)이다.\n",
        "\n"
      ]
    },
    {
      "cell_type": "markdown",
      "metadata": {
        "id": "Mq3GTQNnJImi"
      },
      "source": [
        "최대공약수구하기\n",
        "---\n",
        "최대공약수 알고리즘 : 아래 알고리즘은 두 수 중 가장 작은수를 나눠서 떨어지는 수를 루프로 반복해서 구한다. \n",
        "10, 5가 있으면 5로 나눠서 떨어지면 최대공약수 아니면 4,3,2,1로 하나씩 작은 수로 나눠서 떨어지는지 확인한다.\n"
      ]
    },
    {
      "cell_type": "code",
      "metadata": {
        "colab": {
          "base_uri": "https://localhost:8080/"
        },
        "id": "n6ziztZOJQja",
        "outputId": "0ba5d041-3490-447a-d22a-8864f905dbbb"
      },
      "source": [
        "#최대공약수구하기\n",
        "#입력 a, b\n",
        "#출력: a와 b의 최대공약수\n",
        "\n",
        "def gcd(a,b):\n",
        "  i=min(a,b)\n",
        "  while True:\n",
        "    if a%i==0 and b%i==0:\n",
        "      return i\n",
        "    i=i-1\n",
        "\n",
        "print(gcd(1,5))\n",
        "print(gcd(3,6))\n",
        "print(gcd(60,24))\n",
        "print(gcd(81,27))"
      ],
      "execution_count": 4,
      "outputs": [
        {
          "output_type": "stream",
          "text": [
            "1\n",
            "3\n",
            "12\n",
            "27\n"
          ],
          "name": "stdout"
        }
      ]
    },
    {
      "cell_type": "markdown",
      "metadata": {
        "id": "v7dTOmGqKMuT"
      },
      "source": [
        "유클리드 알고리즘 : \n",
        "1.   a와 b의 최대 공양수는 b와 a를b로 나눈 나머지의 최대공약수와 같다. 즉 gcd(a,b)=gcd(b,a%b)\n",
        "2.   어떤수와 0의 최대공약수는 자기자신이다. 즉 gcd(n,0)=n"
      ]
    },
    {
      "cell_type": "code",
      "metadata": {
        "colab": {
          "base_uri": "https://localhost:8080/"
        },
        "id": "napD9vueJ_RE",
        "outputId": "5b128af8-4ed2-4833-8c77-4b74c21278cb"
      },
      "source": [
        "def gcd(a,b):\n",
        "  if b==0:\n",
        "    return a\n",
        "  return gcd(b,a%b)\n",
        "\n",
        "print(gcd(1,5))\n",
        "print(gcd(3,6))\n",
        "print(gcd(60,24))\n",
        "print(gcd(81,27))"
      ],
      "execution_count": 5,
      "outputs": [
        {
          "output_type": "stream",
          "text": [
            "1\n",
            "3\n",
            "12\n",
            "27\n"
          ],
          "name": "stdout"
        }
      ]
    }
  ]
}