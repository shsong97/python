{
  "nbformat": 4,
  "nbformat_minor": 0,
  "metadata": {
    "colab": {
      "name": "python_study5.ipynb",
      "provenance": [],
      "authorship_tag": "ABX9TyMMFdbnxVO3F4j+l3xh/A9l",
      "include_colab_link": true
    },
    "kernelspec": {
      "name": "python3",
      "display_name": "Python 3"
    }
  },
  "cells": [
    {
      "cell_type": "markdown",
      "metadata": {
        "id": "view-in-github",
        "colab_type": "text"
      },
      "source": [
        "<a href=\"https://colab.research.google.com/github/shsong97/python/blob/master/python_study5.ipynb\" target=\"_parent\"><img src=\"https://colab.research.google.com/assets/colab-badge.svg\" alt=\"Open In Colab\"/></a>"
      ]
    },
    {
      "cell_type": "markdown",
      "metadata": {
        "id": "GZPvnhyuePW0"
      },
      "source": [
        "삽입정렬\n",
        "---\n",
        "\n",
        "삽입정렬은 목록에서 1개를 꺼내 정렬 대상에서 가장 작은 위치에 삽입하는 형태로 줄을 세우는 정렬 방법이다.\n"
      ]
    },
    {
      "cell_type": "code",
      "metadata": {
        "colab": {
          "base_uri": "https://localhost:8080/"
        },
        "id": "LpgVA5LbeKy-",
        "outputId": "dc31a211-7caa-43e4-da23-3c54dd55c8ac"
      },
      "source": [
        "#쉽게 설명한 삽입정렬 알고리즘\n",
        "\n",
        "#리스트 r에서 v가 들어가야할 위치를 돌려주는 함수\n",
        "def find_ins_idx(r,v):\n",
        "  for i in range(0,len(r)):\n",
        "    if v<r[i]:\n",
        "      return i\n",
        "  #적절한 위치를 못찾았을 때는 v가 모든 자료보다 크다는 의미이므로 맨뒤에 삽입    \n",
        "  return len(r)\n",
        "\n",
        "def ins_sort(a):\n",
        "  result=[]\n",
        "  while a:\n",
        "    value=a.pop(0)\n",
        "    ins_idx=find_ins_idx(result,value)\n",
        "    result.insert(ins_idx,value)\n",
        "  return result\n",
        "\n",
        "d=[2,4,5,1,3]\n",
        "print(ins_sort(d))"
      ],
      "execution_count": 1,
      "outputs": [
        {
          "output_type": "stream",
          "text": [
            "[1, 2, 3, 4, 5]\n"
          ],
          "name": "stdout"
        }
      ]
    },
    {
      "cell_type": "code",
      "metadata": {
        "colab": {
          "base_uri": "https://localhost:8080/"
        },
        "id": "or8J1Poefrnc",
        "outputId": "1bc64071-13c8-4c21-9bd2-f0f5b9218790"
      },
      "source": [
        "#일반적인 삽입정렬 알고리즘\n",
        "#리스트안에서 직접 위치를 변경하는 삽입정렬 알고리즘\n",
        "\n",
        "def ins_sort(a):\n",
        "  n=len(a)\n",
        "  for i in range(1,n):\n",
        "    key=a[i]\n",
        "    j=i-1\n",
        "    while j>=0 and a[j]>key:\n",
        "      a[j+1]=a[j]\n",
        "      j-=1\n",
        "    a[j+1]=key\n",
        "\n",
        "d=[2,4,5,1,3]\n",
        "ins_sort(d)\n",
        "print(d)"
      ],
      "execution_count": 2,
      "outputs": [
        {
          "output_type": "stream",
          "text": [
            "[1, 2, 3, 4, 5]\n"
          ],
          "name": "stdout"
        }
      ]
    },
    {
      "cell_type": "markdown",
      "metadata": {
        "id": "ApBsKLiMgvk2"
      },
      "source": [
        "알고리즘분석\n",
        "---\n",
        "\n",
        "입력으로 이미 정렬이 끝난 리스트, 예를 들어 [1,2,3,4,5]와 같은 리스트를 넣어주면 O(n)으로 마칠수 있다. 하지만 이런 경우는 특별한 경우이고 일반적으로는 O(n^2)이다.\n"
      ]
    },
    {
      "cell_type": "markdown",
      "metadata": {
        "id": "JNZj0PAnhH8h"
      },
      "source": [
        "연습문제1. 리스트 [2,4,5,1,3]을 정렬하는 과정을 적어보세요.\n",
        "* 1번째\n",
        "1. 2|4,5,1,3 key=4\n",
        "\n",
        "* 2번째\n",
        "1. 2,4|5,1,3 key=5\n",
        "\n",
        "* 3번째\n",
        "1. 2,4,5|1,3 key=1,j=2\n",
        "2.   2,4,5,3 =>while 돌면서 오른쪽으로 민다\n",
        "3. 1,2,4,5,3 =>마지막 key가 앞에 끼어든다.\n",
        "\n",
        "* 4번째\n",
        "1. 1,2,4,5|3 key=3\n",
        "1. 1,2, ,4,5 =>while 돌면서 오른쪽으로 민다\n",
        "2. 1,2,3,4,5 =>3이 작은값일 때까지 비교하면서 오른쪽으로 밀다가 while 나오면 마지막자리에 삽입\n",
        "\n",
        "연습문제2. 큰수에서 작은수 순서로 나열하는 내림차순 정렬로 바꾸려면 어떤 부분을 변경해야할까?"
      ]
    },
    {
      "cell_type": "code",
      "metadata": {
        "colab": {
          "base_uri": "https://localhost:8080/"
        },
        "id": "7uQrdgRwhwYr",
        "outputId": "72d59ad5-398a-4005-f0af-7fb0bcd02291"
      },
      "source": [
        "def ins_sort(a):\n",
        "  n=len(a)\n",
        "  for i in range(1,n):\n",
        "    key=a[i]\n",
        "    j=i-1\n",
        "    while j>=0 and a[j]<key:\n",
        "      a[j+1]=a[j]\n",
        "      j-=1\n",
        "    a[j+1]=key\n",
        "\n",
        "d=[2,4,5,1,3]\n",
        "ins_sort(d)\n",
        "print(d)"
      ],
      "execution_count": 3,
      "outputs": [
        {
          "output_type": "stream",
          "text": [
            "[5, 4, 3, 2, 1]\n"
          ],
          "name": "stdout"
        }
      ]
    }
  ]
}