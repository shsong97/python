{
  "nbformat": 4,
  "nbformat_minor": 0,
  "metadata": {
    "colab": {
      "name": "python_study1.ipynb",
      "provenance": [],
      "collapsed_sections": [],
      "authorship_tag": "ABX9TyOUZAL9N+cqALEVOR0OwWfy",
      "include_colab_link": true
    },
    "kernelspec": {
      "name": "python3",
      "display_name": "Python 3"
    }
  },
  "cells": [
    {
      "cell_type": "markdown",
      "metadata": {
        "id": "view-in-github",
        "colab_type": "text"
      },
      "source": [
        "<a href=\"https://colab.research.google.com/github/shsong97/python/blob/master/python_study1.ipynb\" target=\"_parent\"><img src=\"https://colab.research.google.com/assets/colab-badge.svg\" alt=\"Open In Colab\"/></a>"
      ]
    },
    {
      "cell_type": "markdown",
      "metadata": {
        "id": "oPD0cMFm-fzt"
      },
      "source": [
        "파이썬을 활용한 알고리즘\n",
        "1. 덧셈 함수 구하는 예제"
      ]
    },
    {
      "cell_type": "code",
      "metadata": {
        "colab": {
          "base_uri": "https://localhost:8080/"
        },
        "id": "Sn4R22vC95XY",
        "outputId": "9743692e-5e8f-41d5-bd2e-b65309992e2e"
      },
      "source": [
        "def sum_n(n):\n",
        "  s=0\n",
        "  for i in range(1,n+1):\n",
        "    s=s+i\n",
        "  return s\n",
        "\n",
        "print(sum_n(10))\n",
        "print(sum_n(100))\n"
      ],
      "execution_count": 1,
      "outputs": [
        {
          "output_type": "stream",
          "text": [
            "55\n",
            "5050\n"
          ],
          "name": "stdout"
        }
      ]
    },
    {
      "cell_type": "markdown",
      "metadata": {
        "id": "YF2hcuIg_APG"
      },
      "source": [
        "2. 덧셈 함수 구하는 예제 2는 숫자합을 구하는 계산식을 이용한 문제"
      ]
    },
    {
      "cell_type": "code",
      "metadata": {
        "colab": {
          "base_uri": "https://localhost:8080/"
        },
        "id": "_6YWchhf98J-",
        "outputId": "1e405e5b-3a1d-4f65-b520-1ecc52042ee2"
      },
      "source": [
        "def sum_n(n):\n",
        "  return n * (n+1) //2\n",
        "\n",
        "print(sum_n(10))\n",
        "print(sum_n(100))  "
      ],
      "execution_count": 2,
      "outputs": [
        {
          "output_type": "stream",
          "text": [
            "55\n",
            "5050\n"
          ],
          "name": "stdout"
        }
      ]
    },
    {
      "cell_type": "markdown",
      "metadata": {
        "id": "4BxMwbQO_ax_"
      },
      "source": [
        "3. 최대값을 구하는 알고리즘"
      ]
    },
    {
      "cell_type": "code",
      "metadata": {
        "colab": {
          "base_uri": "https://localhost:8080/"
        },
        "id": "dJJz9CrL_gab",
        "outputId": "1746dcb7-e3c9-475e-a366-00ac00a92c56"
      },
      "source": [
        "def find_max(a):\n",
        "  n=len(a)\n",
        "  max_v=a[0]\n",
        "  for i in range(1,n):\n",
        "    if(a[i]>max_v):\n",
        "      max_v=a[i]\n",
        "    return max_v\n",
        "\n",
        "v=[17,92,18,33,58,7,33,42]\n",
        "print(find_max(v))"
      ],
      "execution_count": 3,
      "outputs": [
        {
          "output_type": "stream",
          "text": [
            "92\n"
          ],
          "name": "stdout"
        }
      ]
    },
    {
      "cell_type": "markdown",
      "metadata": {
        "id": "ZeVhBVnDAidR"
      },
      "source": [
        "최대값 위치를 구하는 알고리즘"
      ]
    },
    {
      "cell_type": "code",
      "metadata": {
        "colab": {
          "base_uri": "https://localhost:8080/"
        },
        "id": "ma9OspflAhi4",
        "outputId": "36217d9e-1758-4249-9347-5a9f45d1932e"
      },
      "source": [
        "def find_max_idx(a):\n",
        "  n=len(a)\n",
        "  max_idx=0\n",
        "  for i in range(1,n):\n",
        "    if(a[i]>a[max_idx]):\n",
        "      max_idx=i\n",
        "  return max_idx\n",
        "\n",
        "v=[17,92,18,33,58,7,33,42]\n",
        "print(find_max_idx(v))\n",
        "print(v[find_max_idx(v)])"
      ],
      "execution_count": 5,
      "outputs": [
        {
          "output_type": "stream",
          "text": [
            "1\n",
            "92\n"
          ],
          "name": "stdout"
        }
      ]
    },
    {
      "cell_type": "markdown",
      "metadata": {
        "id": "MxxWJfklBDaA"
      },
      "source": [
        "최소값 위치를 구하는 알고리즘"
      ]
    },
    {
      "cell_type": "code",
      "metadata": {
        "colab": {
          "base_uri": "https://localhost:8080/"
        },
        "id": "_iymBLgYBGEq",
        "outputId": "233ae492-067e-41d3-bb84-814c642b53b2"
      },
      "source": [
        "def find_min_idx(a):\n",
        "  n=len(a)\n",
        "  min_idx=0\n",
        "  for i in range(1,n):\n",
        "    if(a[i]<a[min_idx]):\n",
        "      min_idx=i\n",
        "  return min_idx\n",
        "\n",
        "v=[17,92,18,33,58,7,33,42]\n",
        "print(find_min_idx(v))\n",
        "print(v[find_min_idx(v)])"
      ],
      "execution_count": 6,
      "outputs": [
        {
          "output_type": "stream",
          "text": [
            "5\n",
            "7\n"
          ],
          "name": "stdout"
        }
      ]
    }
  ]
}