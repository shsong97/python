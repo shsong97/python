{
  "nbformat": 4,
  "nbformat_minor": 0,
  "metadata": {
    "colab": {
      "name": "python_study4.ipynb",
      "provenance": [],
      "collapsed_sections": [],
      "authorship_tag": "ABX9TyOP22ttcGDxZl3wqsmiNHnq",
      "include_colab_link": true
    },
    "kernelspec": {
      "name": "python3",
      "display_name": "Python 3"
    }
  },
  "cells": [
    {
      "cell_type": "markdown",
      "metadata": {
        "id": "view-in-github",
        "colab_type": "text"
      },
      "source": [
        "<a href=\"https://colab.research.google.com/github/shsong97/python/blob/master/python_study4.ipynb\" target=\"_parent\"><img src=\"https://colab.research.google.com/assets/colab-badge.svg\" alt=\"Open In Colab\"/></a>"
      ]
    },
    {
      "cell_type": "markdown",
      "metadata": {
        "id": "Er6K_zt_Ff2I"
      },
      "source": [
        "순차탐색\n",
        "* 리스트 안에 있는 원소를 하나씩 순차적으로 비교하면서 탐색한다(sequential search)"
      ]
    },
    {
      "cell_type": "code",
      "metadata": {
        "colab": {
          "base_uri": "https://localhost:8080/"
        },
        "id": "SX4_Ln9EDrLR",
        "outputId": "1287ad63-366b-4650-daf5-43a2a093aeea"
      },
      "source": [
        "def search_list(a,x):\n",
        "  n=len(a)\n",
        "  for i in range(0,n):\n",
        "    if x==a[i]:\n",
        "      return i\n",
        "  return -1\n",
        "\n",
        "v=[17,92,18,33,58,7,33,42]\n",
        "print(search_list(v,18))\n",
        "print(search_list(v,33))\n",
        "print(search_list(v,900))\n"
      ],
      "execution_count": 1,
      "outputs": [
        {
          "output_type": "stream",
          "text": [
            "2\n",
            "3\n",
            "-1\n"
          ],
          "name": "stdout"
        }
      ]
    },
    {
      "cell_type": "markdown",
      "metadata": {
        "id": "MfDbI9Z-F0IY"
      },
      "source": [
        "연습문제1.\n",
        "앞에 있는 함수에서는 찾는 값이 여러개 있더라도 첫번째 위치만 결과로 돌려줍니다. 찾는 값이 나오는 모든 위치를 리스트로 돌려주는 탐색 알고리즘을 만들어보세요. 찾는 값이 없다면 빈리스트 []를 돌려줍니다.\n",
        "\n",
        "연습문제2. 다음과 같은 학생번호와 이름이 리스트로 주어졌을 때 학생번호를 입력하면 학생 번호에 해당하는 이름을 순차탐색으로 찾아 돌려주는 함수를 만들어보세요.\n",
        "해당하는 학생번호가 없으면 \"?\" 를 돌려줍니다.\n",
        "\n",
        "* stu_no=[39,14,67,105]\n",
        "* stu_name=[\"Justin\",\"John\",\"Mike\",\"Summer\"]\n"
      ]
    },
    {
      "cell_type": "code",
      "metadata": {
        "colab": {
          "base_uri": "https://localhost:8080/"
        },
        "id": "-AoS2uAcGdUY",
        "outputId": "55a677c8-2459-457b-9449-b85dc815fb41"
      },
      "source": [
        "#연습문제1\n",
        "def search_list(a,x):\n",
        "  n=len(a)\n",
        "  result=[]\n",
        "  for i in range(0,n):\n",
        "    if x==a[i]:\n",
        "      result.append(i)\n",
        "  return result\n",
        "\n",
        "v=[17,92,18,33,58,7,33,42]\n",
        "print(search_list(v,18))\n",
        "print(search_list(v,33))\n",
        "print(search_list(v,900))"
      ],
      "execution_count": 4,
      "outputs": [
        {
          "output_type": "stream",
          "text": [
            "[2]\n",
            "[3, 6]\n",
            "[]\n"
          ],
          "name": "stdout"
        }
      ]
    },
    {
      "cell_type": "code",
      "metadata": {
        "colab": {
          "base_uri": "https://localhost:8080/"
        },
        "id": "dB6bD2wsHKss",
        "outputId": "ea90f5ca-98a5-47a0-f934-111fb178e323"
      },
      "source": [
        "#연습문제2\n",
        "def search_list(sno, sname, x):\n",
        "  n=len(sno)\n",
        "  result=[]\n",
        "  for i in range(0,n):\n",
        "    if x==sno[i]:\n",
        "      result.append(sname[i])\n",
        "  return result\n",
        "\n",
        "stu_no=[39,14,67,105]\n",
        "stu_name=[\"Justin\",\"John\",\"Mike\",\"Summer\"]\n",
        "\n",
        "print(search_list(stu_no, stu_name, 39))\n",
        "print(search_list(stu_no, stu_name, 14))"
      ],
      "execution_count": 7,
      "outputs": [
        {
          "output_type": "stream",
          "text": [
            "['Justin']\n",
            "['John']\n"
          ],
          "name": "stdout"
        }
      ]
    },
    {
      "cell_type": "markdown",
      "metadata": {
        "id": "7oIYDgQbIQDX"
      },
      "source": [
        "일반적인 정렬의 종류\n",
        "\n",
        "* 선택 정렬(Selection sort)\n",
        "* 삽입 정렬(Insertion sort)\n",
        "* 병합 정렬(Merge sort)\n",
        "* 퀵 정렬(Quick sort)\n",
        "* 거품 정렬(Bubble sort)\n"
      ]
    },
    {
      "cell_type": "markdown",
      "metadata": {
        "id": "3m2yDXFNIrOg"
      },
      "source": [
        "선택 정렬\n",
        "---\n",
        "예시) \n",
        "1. 학생 10명이 모여있는 운동장에 선생님이 등장합니다.\n",
        "2. 선생님은 학생들 중 가장 키가 작은 사람을 찾습니다. 가장 키 작은 아이가 앞으로 나가 맨 앞줄에 세웁니다.\n",
        "3. 나머지 9명에서 가장 작은 사람을 찾아 그 다음으로 줄을 세웁니다.\n",
        "4. 이처럼 남은 사람을 반복하여 모두 줄을 세웁니다."
      ]
    },
    {
      "cell_type": "code",
      "metadata": {
        "colab": {
          "base_uri": "https://localhost:8080/"
        },
        "id": "YRoqZolyJd-1",
        "outputId": "8beb7e97-61ee-4ecf-93a0-edba8f89f1af"
      },
      "source": [
        "#쉽게 설명한 선택 정렬 알고리즘\n",
        "def find_min_idx(a):\n",
        "  n=len(a)\n",
        "  min_idx=0\n",
        "  for i in range(1,n):\n",
        "    if(a[i]<a[min_idx]):\n",
        "      min_idx=i\n",
        "  return min_idx\n",
        "\n",
        "def sel_sort(a):\n",
        "  result=[]\n",
        "  while a:\n",
        "    min_idx=find_min_idx(a)\n",
        "    value=a.pop(min_idx)\n",
        "    result.append(value)\n",
        "  return result\n",
        "\n",
        "d=[2,4,5,1,3]\n",
        "print(sel_sort(d))\n"
      ],
      "execution_count": 11,
      "outputs": [
        {
          "output_type": "stream",
          "text": [
            "[1, 2, 3, 4, 5]\n"
          ],
          "name": "stdout"
        }
      ]
    },
    {
      "cell_type": "code",
      "metadata": {
        "colab": {
          "base_uri": "https://localhost:8080/"
        },
        "id": "d5eKmbyQKR_R",
        "outputId": "1e9daf36-b9f1-4660-f0c2-4679b477193b"
      },
      "source": [
        "#일반적인 선택 정렬 알고리즘\n",
        "#0번째는 1번째부터 마지막까지 가장 찾은 인덱스를 찾고, 0번째와 값을 바꾼다. \n",
        "#0번째에 가장 작은 값이 온다. 0부터 n-1까지 반복한다.\n",
        "\n",
        "def sel_sort(a):\n",
        "  n=len(a)\n",
        "  for i in range(0,n-1):\n",
        "    min_idx=i\n",
        "    for j in range(i+1,n):\n",
        "      if a[j]<a[min_idx]:\n",
        "        min_idx=j\n",
        "    a[i], a[min_idx] = a[min_idx], a[i]\n",
        "\n",
        "d=[2,4,5,1,3]\n",
        "sel_sort(d)\n",
        "print(d)    "
      ],
      "execution_count": 16,
      "outputs": [
        {
          "output_type": "stream",
          "text": [
            "[1, 2, 3, 4, 5]\n"
          ],
          "name": "stdout"
        }
      ]
    },
    {
      "cell_type": "markdown",
      "metadata": {
        "id": "hi4vLW3pLTH5"
      },
      "source": [
        "알고리즘 분석\n",
        "---\n",
        "자료를 크기순으로 정렬하려면 두수의 크기를 비교해야 한다.\n",
        "따라서 정렬 알고리즘의 복잡도는 보통 비교 회수를 기준으로 따집니다.\n",
        "선택 정렬의 경우 비교를 n * ( n-1 ) / 2 를 하므로 O(n^2)인 알로리즘입니다."
      ]
    },
    {
      "cell_type": "markdown",
      "metadata": {
        "id": "ppJQ17DMMwW5"
      },
      "source": [
        "연습문제. 위 함수에서 큰수에서 작은수로 정렬하려면 어떤 부분을 변경해야 할까요?"
      ]
    },
    {
      "cell_type": "code",
      "metadata": {
        "colab": {
          "base_uri": "https://localhost:8080/"
        },
        "id": "n3WVGPQeLv_k",
        "outputId": "d0f1cbf5-be6b-49a0-f5bb-79f71b157919"
      },
      "source": [
        "def sel_sort(a):\n",
        "  n=len(a)\n",
        "  for i in range(0,n-1):\n",
        "    max_idx=i\n",
        "    for j in range(i+1,n):\n",
        "      if a[j]>a[max_idx]:\n",
        "        max_idx=j\n",
        "    a[i], a[max_idx] = a[max_idx], a[i]\n",
        "\n",
        "d=[2,4,5,1,3]\n",
        "sel_sort(d)\n",
        "print(d)    "
      ],
      "execution_count": 18,
      "outputs": [
        {
          "output_type": "stream",
          "text": [
            "[5, 4, 3, 2, 1]\n"
          ],
          "name": "stdout"
        }
      ]
    }
  ]
}