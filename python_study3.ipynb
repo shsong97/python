{
  "nbformat": 4,
  "nbformat_minor": 0,
  "metadata": {
    "colab": {
      "name": "python_study3.ipynb",
      "provenance": [],
      "collapsed_sections": [],
      "authorship_tag": "ABX9TyM8SKNjOUkHT5stC86vhV/O",
      "include_colab_link": true
    },
    "kernelspec": {
      "name": "python3",
      "display_name": "Python 3"
    }
  },
  "cells": [
    {
      "cell_type": "markdown",
      "metadata": {
        "id": "view-in-github",
        "colab_type": "text"
      },
      "source": [
        "<a href=\"https://colab.research.google.com/github/shsong97/python/blob/master/python_study3.ipynb\" target=\"_parent\"><img src=\"https://colab.research.google.com/assets/colab-badge.svg\" alt=\"Open In Colab\"/></a>"
      ]
    },
    {
      "cell_type": "markdown",
      "metadata": {
        "id": "tfIfNMb19G7P"
      },
      "source": [
        "하노이탑 옮기기\n",
        "---\n",
        "\n",
        "\n",
        "*   크기가 다른 원반 n개를 출발점 기둥에서 도착점 기둥으로 전부 옮겨져야 합니다.\n",
        "*   원반은 한번에 한 개씩만 옮길 수 있습니다.\n",
        "*   원반을 옮길 때는 한 기둥의 맨 위 원반을 뽑아, 다른 기둥의 맨 위로만 옮길 수 있습니다.(중간에서 빼거나 끼워놓을수 없습니다.)\n",
        "*   원반을 옮기는 과정에서 큰 원반을 작은 원반 위로 올릴수 없습니다.\n",
        "\n",
        "3개짜리 하노이탑 풀이\n",
        "---\n",
        "\n",
        "1. 원반이 1개일 때\n",
        "* 1번 기둥에 있는 원반을 3번 기둥으로 옮기면 끝 (1->3)\n",
        "\n",
        "2. 원반이 2개일 때\n",
        "* 1번 기둥의 맨위 원반을 2번 기둥으로 옮깁니다.(1->2)\n",
        "* 1번 기둥에 있는 큰원반을 3번 기둥으로 올깁니다.(1->3)\n",
        "* 2번 기둥에 있는 남은 원반을 3번 기둥으로 옮깁니다.(2->3)\n",
        "* 3번만에 원반 2개를 옮겼습니다.\n",
        "\n",
        "3. 원반이 3개일 때\n",
        "* 1번 기둥에 있는 원반 3개중 위에 있는 원반 2개를 비어있는 2번 기둥으로 옮깁니다. (실제로는 원반 2개 옮기는 과정 참고하여 옮겨야 함.3번 기둥을 보조기둥으로 사용하여 1번 기둥에 있는 원반을 2번 기둥으로 옮기는 문제로 해석(1->3,1->2,3->2))\n",
        "* 1번 기둥에 남아 있는 큰 원반을 3번 기둥으로 옮깁니다.(1->3)\n",
        "* 이번에는 2번 기둥에 있는 원반 2개를 3번 기둥으로 옮기는데 비어있는 1번 기둥을 보조기둥으로 사용하여 옮깁니다.(2->1,2->3,1->3)\n",
        "* 총 3+1+3=7 번 이동으로 문제가 해결됩니다.\n",
        "\n",
        "원반이 n 개일때 풀이\n",
        "---\n",
        "* 1번 기둥에 있는 n-1개 원반을 2번 기둥으로 옯깁니다.(n-1개짜리 하노이 탑문제 풀기)\n",
        "* 1번 기둥에 남아 있는 큰 원반을 3번 기둥으로 옮깁니다 (1->3)\n",
        "* 2번 기둥에 있는 n-1개 원반을 3번 기둥으로 옮깁니다.(n-1개짜리 하노이 탑문제 풀기)"
      ]
    },
    {
      "cell_type": "code",
      "metadata": {
        "colab": {
          "base_uri": "https://localhost:8080/"
        },
        "id": "7kQ9zkWZ8_d-",
        "outputId": "2bce7ae2-c9f1-491b-baee-00055d882854"
      },
      "source": [
        "def hanoi(n, from_pos, to_pos, aux_pos):\n",
        "  if n==1: # 원반 1개를 옮기는 문제는 그냥 옮기면 됨\n",
        "    print(from_pos,\"->\",to_pos)\n",
        "    return\n",
        "  # 원반 n-1개를 aux_pos로 이동(to_pos를 보조기둥으로)  \n",
        "  hanoi(n-1, from_pos, aux_pos, to_pos)\n",
        "  # 큰 원반을 목적지로 이동\n",
        "  print(from_pos,\"->\",to_pos)\n",
        "  # aux_pos에 있는 원반 n-1개를 목적지로 이동(from_pos를 보조기둥으로)\n",
        "  hanoi(n-1, aux_pos, to_pos, from_pos)\n",
        "\n",
        "print(\"n=1\")\n",
        "hanoi(1,1,3,2)\n",
        "print(\"n=2\")\n",
        "hanoi(2,1,3,2)\n",
        "print(\"n=3\")\n",
        "hanoi(3,1,3,2)"
      ],
      "execution_count": 1,
      "outputs": [
        {
          "output_type": "stream",
          "text": [
            "n=1\n",
            "1 -> 3\n",
            "n=2\n",
            "1 -> 2\n",
            "1 -> 3\n",
            "2 -> 3\n",
            "n=3\n",
            "1 -> 3\n",
            "1 -> 2\n",
            "3 -> 2\n",
            "1 -> 3\n",
            "2 -> 1\n",
            "2 -> 3\n",
            "1 -> 3\n"
          ],
          "name": "stdout"
        }
      ]
    },
    {
      "cell_type": "markdown",
      "metadata": {
        "id": "fANqzuJKBd8o"
      },
      "source": [
        "알고리즘 분석\n",
        "* 1층:1번이동\n",
        "* 2층:3번이동\n",
        "* 3층:7번이동...\n",
        "* n층: 2^n-1\n",
        "* O(2^n)"
      ]
    }
  ]
}